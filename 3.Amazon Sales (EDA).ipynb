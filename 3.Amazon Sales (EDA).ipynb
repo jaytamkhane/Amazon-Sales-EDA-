{
 "cells": [
  {
   "cell_type": "code",
   "execution_count": 1,
   "id": "363de9cd-0f53-4ad0-8145-837a25dd8995",
   "metadata": {},
   "outputs": [],
   "source": [
    "import pandas as pd\n",
    "import numpy as np\n",
    "import seaborn as sns\n",
    "import matplotlib.pyplot as plt\n",
    "\n",
    "import warnings\n",
    "warnings.filterwarnings('ignore')"
   ]
  },
  {
   "cell_type": "code",
   "execution_count": 2,
   "id": "cc3b503d-2009-40c3-920e-2412e6d36c50",
   "metadata": {},
   "outputs": [],
   "source": [
    "df = pd.read_csv('amazon.csv')"
   ]
  },
  {
   "cell_type": "code",
   "execution_count": 3,
   "id": "c1e23552-86ed-4859-a39f-37bf561e9b31",
   "metadata": {},
   "outputs": [
    {
     "data": {
      "text/html": [
       "<div>\n",
       "<style scoped>\n",
       "    .dataframe tbody tr th:only-of-type {\n",
       "        vertical-align: middle;\n",
       "    }\n",
       "\n",
       "    .dataframe tbody tr th {\n",
       "        vertical-align: top;\n",
       "    }\n",
       "\n",
       "    .dataframe thead th {\n",
       "        text-align: right;\n",
       "    }\n",
       "</style>\n",
       "<table border=\"1\" class=\"dataframe\">\n",
       "  <thead>\n",
       "    <tr style=\"text-align: right;\">\n",
       "      <th></th>\n",
       "      <th>product_id</th>\n",
       "      <th>product_name</th>\n",
       "      <th>category</th>\n",
       "      <th>discounted_price</th>\n",
       "      <th>actual_price</th>\n",
       "      <th>discount_percentage</th>\n",
       "      <th>rating</th>\n",
       "      <th>rating_count</th>\n",
       "      <th>about_product</th>\n",
       "      <th>user_id</th>\n",
       "      <th>user_name</th>\n",
       "      <th>review_id</th>\n",
       "      <th>review_title</th>\n",
       "      <th>review_content</th>\n",
       "      <th>img_link</th>\n",
       "      <th>product_link</th>\n",
       "    </tr>\n",
       "  </thead>\n",
       "  <tbody>\n",
       "    <tr>\n",
       "      <th>0</th>\n",
       "      <td>B07JW9H4J1</td>\n",
       "      <td>Wayona Nylon Braided USB to Lightning Fast Cha...</td>\n",
       "      <td>Computers&amp;Accessories|Accessories&amp;Peripherals|...</td>\n",
       "      <td>₹399</td>\n",
       "      <td>₹1,099</td>\n",
       "      <td>64%</td>\n",
       "      <td>4.2</td>\n",
       "      <td>24,269</td>\n",
       "      <td>High Compatibility : Compatible With iPhone 12...</td>\n",
       "      <td>AG3D6O4STAQKAY2UVGEUV46KN35Q,AHMY5CWJMMK5BJRBB...</td>\n",
       "      <td>Manav,Adarsh gupta,Sundeep,S.Sayeed Ahmed,jasp...</td>\n",
       "      <td>R3HXWT0LRP0NMF,R2AJM3LFTLZHFO,R6AQJGUP6P86,R1K...</td>\n",
       "      <td>Satisfied,Charging is really fast,Value for mo...</td>\n",
       "      <td>Looks durable Charging is fine tooNo complains...</td>\n",
       "      <td>https://m.media-amazon.com/images/W/WEBP_40237...</td>\n",
       "      <td>https://www.amazon.in/Wayona-Braided-WN3LG1-Sy...</td>\n",
       "    </tr>\n",
       "  </tbody>\n",
       "</table>\n",
       "</div>"
      ],
      "text/plain": [
       "   product_id                                       product_name  \\\n",
       "0  B07JW9H4J1  Wayona Nylon Braided USB to Lightning Fast Cha...   \n",
       "\n",
       "                                            category discounted_price  \\\n",
       "0  Computers&Accessories|Accessories&Peripherals|...             ₹399   \n",
       "\n",
       "  actual_price discount_percentage rating rating_count  \\\n",
       "0       ₹1,099                 64%    4.2       24,269   \n",
       "\n",
       "                                       about_product  \\\n",
       "0  High Compatibility : Compatible With iPhone 12...   \n",
       "\n",
       "                                             user_id  \\\n",
       "0  AG3D6O4STAQKAY2UVGEUV46KN35Q,AHMY5CWJMMK5BJRBB...   \n",
       "\n",
       "                                           user_name  \\\n",
       "0  Manav,Adarsh gupta,Sundeep,S.Sayeed Ahmed,jasp...   \n",
       "\n",
       "                                           review_id  \\\n",
       "0  R3HXWT0LRP0NMF,R2AJM3LFTLZHFO,R6AQJGUP6P86,R1K...   \n",
       "\n",
       "                                        review_title  \\\n",
       "0  Satisfied,Charging is really fast,Value for mo...   \n",
       "\n",
       "                                      review_content  \\\n",
       "0  Looks durable Charging is fine tooNo complains...   \n",
       "\n",
       "                                            img_link  \\\n",
       "0  https://m.media-amazon.com/images/W/WEBP_40237...   \n",
       "\n",
       "                                        product_link  \n",
       "0  https://www.amazon.in/Wayona-Braided-WN3LG1-Sy...  "
      ]
     },
     "execution_count": 3,
     "metadata": {},
     "output_type": "execute_result"
    }
   ],
   "source": [
    "df.head(1)"
   ]
  },
  {
   "cell_type": "code",
   "execution_count": 4,
   "id": "d4d42286-f731-4f4f-811d-033f8e76dea0",
   "metadata": {},
   "outputs": [
    {
     "data": {
      "text/plain": [
       "(1465, 16)"
      ]
     },
     "execution_count": 4,
     "metadata": {},
     "output_type": "execute_result"
    }
   ],
   "source": [
    "df.shape"
   ]
  },
  {
   "cell_type": "code",
   "execution_count": 5,
   "id": "214f1367-5c63-4d78-87f1-e07748545b3e",
   "metadata": {},
   "outputs": [
    {
     "name": "stdout",
     "output_type": "stream",
     "text": [
      "<class 'pandas.core.frame.DataFrame'>\n",
      "RangeIndex: 1465 entries, 0 to 1464\n",
      "Data columns (total 16 columns):\n",
      " #   Column               Non-Null Count  Dtype \n",
      "---  ------               --------------  ----- \n",
      " 0   product_id           1465 non-null   object\n",
      " 1   product_name         1465 non-null   object\n",
      " 2   category             1465 non-null   object\n",
      " 3   discounted_price     1465 non-null   object\n",
      " 4   actual_price         1465 non-null   object\n",
      " 5   discount_percentage  1465 non-null   object\n",
      " 6   rating               1465 non-null   object\n",
      " 7   rating_count         1463 non-null   object\n",
      " 8   about_product        1465 non-null   object\n",
      " 9   user_id              1465 non-null   object\n",
      " 10  user_name            1465 non-null   object\n",
      " 11  review_id            1465 non-null   object\n",
      " 12  review_title         1465 non-null   object\n",
      " 13  review_content       1465 non-null   object\n",
      " 14  img_link             1465 non-null   object\n",
      " 15  product_link         1465 non-null   object\n",
      "dtypes: object(16)\n",
      "memory usage: 183.3+ KB\n"
     ]
    }
   ],
   "source": [
    "df.info()"
   ]
  },
  {
   "cell_type": "code",
   "execution_count": 6,
   "id": "e96ce548-2fb7-4bac-ad4a-7169f03d35a8",
   "metadata": {},
   "outputs": [
    {
     "data": {
      "text/plain": [
       "0"
      ]
     },
     "execution_count": 6,
     "metadata": {},
     "output_type": "execute_result"
    }
   ],
   "source": [
    "df.duplicated().sum()"
   ]
  },
  {
   "cell_type": "code",
   "execution_count": 7,
   "id": "b4fe1bb4-7876-4ea1-a1ce-7cb975c9703b",
   "metadata": {},
   "outputs": [
    {
     "name": "stdout",
     "output_type": "stream",
     "text": [
      "<class 'pandas.core.frame.DataFrame'>\n",
      "RangeIndex: 1465 entries, 0 to 1464\n",
      "Data columns (total 16 columns):\n",
      " #   Column               Non-Null Count  Dtype  \n",
      "---  ------               --------------  -----  \n",
      " 0   product_id           1465 non-null   object \n",
      " 1   product_name         1465 non-null   object \n",
      " 2   category             1465 non-null   object \n",
      " 3   discounted_price     1465 non-null   float64\n",
      " 4   actual_price         1465 non-null   float64\n",
      " 5   discount_percentage  1465 non-null   int64  \n",
      " 6   rating               1464 non-null   float64\n",
      " 7   rating_count         1463 non-null   float64\n",
      " 8   about_product        1465 non-null   object \n",
      " 9   user_id              1465 non-null   object \n",
      " 10  user_name            1465 non-null   object \n",
      " 11  review_id            1465 non-null   object \n",
      " 12  review_title         1465 non-null   object \n",
      " 13  review_content       1465 non-null   object \n",
      " 14  img_link             1465 non-null   object \n",
      " 15  product_link         1465 non-null   object \n",
      "dtypes: float64(4), int64(1), object(11)\n",
      "memory usage: 183.3+ KB\n"
     ]
    }
   ],
   "source": [
    "# List of columns to convert\n",
    "num_cols = ['discounted_price', 'actual_price', 'discount_percentage', 'rating', 'rating_count']\n",
    "\n",
    "# Clean and convert numeric columns\n",
    "for col in num_cols:\n",
    "    df[col] = df[col].astype(str)  # Ensure all data is treated as string first\n",
    "    df[col] = df[col].str.replace('₹', '', regex=False)    # Remove ₹\n",
    "    df[col] = df[col].str.replace(',', '', regex=False)    # Remove commas\n",
    "    df[col] = df[col].str.replace('%', '', regex=False)    # Remove %\n",
    "    df[col] = df[col].str.strip()                          # Remove leading/trailing spaces\n",
    "    df[col] = pd.to_numeric(df[col], errors='coerce')      # Convert to numeric\n",
    "\n",
    "# Check the updated DataFrame info\n",
    "df.info()"
   ]
  },
  {
   "cell_type": "code",
   "execution_count": 8,
   "id": "dd19ac03-3e34-4bcc-8d72-070f434d2b2c",
   "metadata": {},
   "outputs": [],
   "source": [
    "df.drop(['img_link', 'product_link', 'user_name', 'product_id', 'user_id', 'review_id'],axis = 1, inplace = True, errors = 'coerce')"
   ]
  },
  {
   "cell_type": "code",
   "execution_count": 9,
   "id": "0d916797-0d34-48ea-a362-e3169cf8d1ab",
   "metadata": {},
   "outputs": [
    {
     "data": {
      "text/html": [
       "<div>\n",
       "<style scoped>\n",
       "    .dataframe tbody tr th:only-of-type {\n",
       "        vertical-align: middle;\n",
       "    }\n",
       "\n",
       "    .dataframe tbody tr th {\n",
       "        vertical-align: top;\n",
       "    }\n",
       "\n",
       "    .dataframe thead th {\n",
       "        text-align: right;\n",
       "    }\n",
       "</style>\n",
       "<table border=\"1\" class=\"dataframe\">\n",
       "  <thead>\n",
       "    <tr style=\"text-align: right;\">\n",
       "      <th></th>\n",
       "      <th>product_name</th>\n",
       "      <th>category</th>\n",
       "      <th>discounted_price</th>\n",
       "      <th>actual_price</th>\n",
       "      <th>discount_percentage</th>\n",
       "      <th>rating</th>\n",
       "      <th>rating_count</th>\n",
       "      <th>about_product</th>\n",
       "      <th>review_title</th>\n",
       "      <th>review_content</th>\n",
       "    </tr>\n",
       "  </thead>\n",
       "  <tbody>\n",
       "    <tr>\n",
       "      <th>240</th>\n",
       "      <td>Ambrane 60W / 3A Fast Charging Output Cable wi...</td>\n",
       "      <td>Computers&amp;Accessories|Accessories&amp;Peripherals|...</td>\n",
       "      <td>179.0</td>\n",
       "      <td>399.0</td>\n",
       "      <td>55</td>\n",
       "      <td>4.0</td>\n",
       "      <td>1423.0</td>\n",
       "      <td>Fast Charging Cable - The cable can support up...</td>\n",
       "      <td>GOOD,Thank you  Amazon very good charging cabl...</td>\n",
       "      <td>Everything is fine but it is bulky and hard, i...</td>\n",
       "    </tr>\n",
       "    <tr>\n",
       "      <th>735</th>\n",
       "      <td>STRIFF 12 Pieces Highly Flexible Silicone Micr...</td>\n",
       "      <td>Electronics|Mobiles&amp;Accessories|MobileAccessor...</td>\n",
       "      <td>95.0</td>\n",
       "      <td>499.0</td>\n",
       "      <td>81</td>\n",
       "      <td>4.2</td>\n",
       "      <td>1949.0</td>\n",
       "      <td>Protect cables: the cable protectors are desig...</td>\n",
       "      <td>Very useful,Very useful item to make your phon...</td>\n",
       "      <td>A 10bucks piece can save cable worth hundreds....</td>\n",
       "    </tr>\n",
       "    <tr>\n",
       "      <th>1253</th>\n",
       "      <td>INALSA Electric Chopper Bullet- 400 Watts with...</td>\n",
       "      <td>Home&amp;Kitchen|Kitchen&amp;HomeAppliances|SmallKitch...</td>\n",
       "      <td>1656.0</td>\n",
       "      <td>2695.0</td>\n",
       "      <td>39</td>\n",
       "      <td>4.4</td>\n",
       "      <td>6027.0</td>\n",
       "      <td>Reduce Prep Time: Inalsa Bullet is one powerfu...</td>\n",
       "      <td>A must have addition to the kitchen.,Easy to u...</td>\n",
       "      <td>After about a month of usage this is an over a...</td>\n",
       "    </tr>\n",
       "    <tr>\n",
       "      <th>1345</th>\n",
       "      <td>Prestige PWG 07 Wet Grinder, 2L (Multicolor) w...</td>\n",
       "      <td>Home&amp;Kitchen|Kitchen&amp;HomeAppliances|SmallKitch...</td>\n",
       "      <td>3710.0</td>\n",
       "      <td>4330.0</td>\n",
       "      <td>14</td>\n",
       "      <td>3.7</td>\n",
       "      <td>1662.0</td>\n",
       "      <td>2 Litres Capacity, 5 Years Warranty on Motor|H...</td>\n",
       "      <td>Good,Ease of use,Ok,Very good,Grinding is fine...</td>\n",
       "      <td>Can buy it,its really a good product for the p...</td>\n",
       "    </tr>\n",
       "    <tr>\n",
       "      <th>954</th>\n",
       "      <td>Gizga Essentials Laptop Bag Sleeve Case Cover ...</td>\n",
       "      <td>Computers&amp;Accessories|Accessories&amp;Peripherals|...</td>\n",
       "      <td>269.0</td>\n",
       "      <td>1099.0</td>\n",
       "      <td>76</td>\n",
       "      <td>4.1</td>\n",
       "      <td>1092.0</td>\n",
       "      <td>Innovative Design: This Laptop Case is made of...</td>\n",
       "      <td>Nice product,Not bad,good sleev,Very Good Prod...</td>\n",
       "      <td>Nice product,Not bad..,Its a good sleev for 14...</td>\n",
       "    </tr>\n",
       "  </tbody>\n",
       "</table>\n",
       "</div>"
      ],
      "text/plain": [
       "                                           product_name  \\\n",
       "240   Ambrane 60W / 3A Fast Charging Output Cable wi...   \n",
       "735   STRIFF 12 Pieces Highly Flexible Silicone Micr...   \n",
       "1253  INALSA Electric Chopper Bullet- 400 Watts with...   \n",
       "1345  Prestige PWG 07 Wet Grinder, 2L (Multicolor) w...   \n",
       "954   Gizga Essentials Laptop Bag Sleeve Case Cover ...   \n",
       "\n",
       "                                               category  discounted_price  \\\n",
       "240   Computers&Accessories|Accessories&Peripherals|...             179.0   \n",
       "735   Electronics|Mobiles&Accessories|MobileAccessor...              95.0   \n",
       "1253  Home&Kitchen|Kitchen&HomeAppliances|SmallKitch...            1656.0   \n",
       "1345  Home&Kitchen|Kitchen&HomeAppliances|SmallKitch...            3710.0   \n",
       "954   Computers&Accessories|Accessories&Peripherals|...             269.0   \n",
       "\n",
       "      actual_price  discount_percentage  rating  rating_count  \\\n",
       "240          399.0                   55     4.0        1423.0   \n",
       "735          499.0                   81     4.2        1949.0   \n",
       "1253        2695.0                   39     4.4        6027.0   \n",
       "1345        4330.0                   14     3.7        1662.0   \n",
       "954         1099.0                   76     4.1        1092.0   \n",
       "\n",
       "                                          about_product  \\\n",
       "240   Fast Charging Cable - The cable can support up...   \n",
       "735   Protect cables: the cable protectors are desig...   \n",
       "1253  Reduce Prep Time: Inalsa Bullet is one powerfu...   \n",
       "1345  2 Litres Capacity, 5 Years Warranty on Motor|H...   \n",
       "954   Innovative Design: This Laptop Case is made of...   \n",
       "\n",
       "                                           review_title  \\\n",
       "240   GOOD,Thank you  Amazon very good charging cabl...   \n",
       "735   Very useful,Very useful item to make your phon...   \n",
       "1253  A must have addition to the kitchen.,Easy to u...   \n",
       "1345  Good,Ease of use,Ok,Very good,Grinding is fine...   \n",
       "954   Nice product,Not bad,good sleev,Very Good Prod...   \n",
       "\n",
       "                                         review_content  \n",
       "240   Everything is fine but it is bulky and hard, i...  \n",
       "735   A 10bucks piece can save cable worth hundreds....  \n",
       "1253  After about a month of usage this is an over a...  \n",
       "1345  Can buy it,its really a good product for the p...  \n",
       "954   Nice product,Not bad..,Its a good sleev for 14...  "
      ]
     },
     "execution_count": 9,
     "metadata": {},
     "output_type": "execute_result"
    }
   ],
   "source": [
    "df.sample(5)"
   ]
  },
  {
   "cell_type": "code",
   "execution_count": 10,
   "id": "9cf9ab99-2184-48ab-bdbc-debc2cb3eed0",
   "metadata": {},
   "outputs": [
    {
     "data": {
      "text/plain": [
       "product_name           0\n",
       "category               0\n",
       "discounted_price       0\n",
       "actual_price           0\n",
       "discount_percentage    0\n",
       "rating                 1\n",
       "rating_count           2\n",
       "about_product          0\n",
       "review_title           0\n",
       "review_content         0\n",
       "main_category          0\n",
       "dtype: int64"
      ]
     },
     "execution_count": 10,
     "metadata": {},
     "output_type": "execute_result"
    }
   ],
   "source": [
    "# Extract primary category if multiple levels exist\n",
    "df['main_category'] = df['category'].str.split('|').str[0]\n",
    "\n",
    "df.isnull().sum()"
   ]
  },
  {
   "cell_type": "code",
   "execution_count": 11,
   "id": "82727a28-b18e-4009-a8ef-640494ba1c09",
   "metadata": {},
   "outputs": [],
   "source": [
    "df = df.fillna(0)"
   ]
  },
  {
   "cell_type": "code",
   "execution_count": 12,
   "id": "28b9bc0b-c3cc-4ec8-a50a-6c816973827b",
   "metadata": {},
   "outputs": [
    {
     "data": {
      "text/html": [
       "<div>\n",
       "<style scoped>\n",
       "    .dataframe tbody tr th:only-of-type {\n",
       "        vertical-align: middle;\n",
       "    }\n",
       "\n",
       "    .dataframe tbody tr th {\n",
       "        vertical-align: top;\n",
       "    }\n",
       "\n",
       "    .dataframe thead th {\n",
       "        text-align: right;\n",
       "    }\n",
       "</style>\n",
       "<table border=\"1\" class=\"dataframe\">\n",
       "  <thead>\n",
       "    <tr style=\"text-align: right;\">\n",
       "      <th></th>\n",
       "      <th>product_name</th>\n",
       "      <th>category</th>\n",
       "      <th>discounted_price</th>\n",
       "      <th>actual_price</th>\n",
       "      <th>discount_percentage</th>\n",
       "      <th>rating</th>\n",
       "      <th>rating_count</th>\n",
       "      <th>about_product</th>\n",
       "      <th>review_title</th>\n",
       "      <th>review_content</th>\n",
       "      <th>main_category</th>\n",
       "    </tr>\n",
       "  </thead>\n",
       "  <tbody>\n",
       "    <tr>\n",
       "      <th>486</th>\n",
       "      <td>FLiX (Beetel) USB to Type C PVC Data Sync &amp; 2A...</td>\n",
       "      <td>Computers&amp;Accessories|Accessories&amp;Peripherals|...</td>\n",
       "      <td>139.0</td>\n",
       "      <td>249.0</td>\n",
       "      <td>44</td>\n",
       "      <td>4.0</td>\n",
       "      <td>9377.0</td>\n",
       "      <td>Durable Pvc Outer Exterior: Pvc Cables Are Ver...</td>\n",
       "      <td>Worked on iPhone 7 and didn’t work on XR,Good ...</td>\n",
       "      <td>Worked on iPhone 7 and didn’t work on iPhone X...</td>\n",
       "      <td>Computers&amp;Accessories</td>\n",
       "    </tr>\n",
       "    <tr>\n",
       "      <th>939</th>\n",
       "      <td>Wecool Moonwalk M1 ENC True Wireless in Ear Ea...</td>\n",
       "      <td>Electronics|Headphones,Earbuds&amp;Accessories|Hea...</td>\n",
       "      <td>889.0</td>\n",
       "      <td>1999.0</td>\n",
       "      <td>56</td>\n",
       "      <td>4.2</td>\n",
       "      <td>2284.0</td>\n",
       "      <td>We have designed the ENC earbuds to provide Ex...</td>\n",
       "      <td>Great Customer care experience..!!,Best in bud...</td>\n",
       "      <td>I ordered this product 1 week ago on Amazon bu...</td>\n",
       "      <td>Electronics</td>\n",
       "    </tr>\n",
       "    <tr>\n",
       "      <th>307</th>\n",
       "      <td>ZORBES® Wall Adapter Holder for Alexa Echo Dot...</td>\n",
       "      <td>Electronics|HomeTheater,TV&amp;Video|Accessories|T...</td>\n",
       "      <td>893.0</td>\n",
       "      <td>1052.0</td>\n",
       "      <td>15</td>\n",
       "      <td>4.3</td>\n",
       "      <td>106.0</td>\n",
       "      <td>[Make Your Wired Alexa Echo Dot Looks Wireless...</td>\n",
       "      <td>Concept is great but not at all value for mone...</td>\n",
       "      <td>,If you have brain,its very easy to install an...</td>\n",
       "      <td>Electronics</td>\n",
       "    </tr>\n",
       "    <tr>\n",
       "      <th>748</th>\n",
       "      <td>JBL Commercial CSLM20B Auxiliary Omnidirection...</td>\n",
       "      <td>Computers&amp;Accessories|Accessories&amp;Peripherals|...</td>\n",
       "      <td>949.0</td>\n",
       "      <td>2000.0</td>\n",
       "      <td>53</td>\n",
       "      <td>3.9</td>\n",
       "      <td>14969.0</td>\n",
       "      <td>Omnidirectional pickup pattern|3.5mm TRRS jack...</td>\n",
       "      <td>It's just good !,Good for WFH,Works according ...</td>\n",
       "      <td>It just good for beginners you can start your ...</td>\n",
       "      <td>Computers&amp;Accessories</td>\n",
       "    </tr>\n",
       "    <tr>\n",
       "      <th>967</th>\n",
       "      <td>Canon PIXMA E477 All-in-One Wireless Ink Effic...</td>\n",
       "      <td>Computers&amp;Accessories|Printers,Inks&amp;Accessorie...</td>\n",
       "      <td>5299.0</td>\n",
       "      <td>6355.0</td>\n",
       "      <td>17</td>\n",
       "      <td>3.9</td>\n",
       "      <td>8280.0</td>\n",
       "      <td>Printer type: Ink Efficient; Functionality All...</td>\n",
       "      <td>Good printer but challenging setup,Use friendl...</td>\n",
       "      <td>The Printer is compact and gets the job done. ...</td>\n",
       "      <td>Computers&amp;Accessories</td>\n",
       "    </tr>\n",
       "  </tbody>\n",
       "</table>\n",
       "</div>"
      ],
      "text/plain": [
       "                                          product_name  \\\n",
       "486  FLiX (Beetel) USB to Type C PVC Data Sync & 2A...   \n",
       "939  Wecool Moonwalk M1 ENC True Wireless in Ear Ea...   \n",
       "307  ZORBES® Wall Adapter Holder for Alexa Echo Dot...   \n",
       "748  JBL Commercial CSLM20B Auxiliary Omnidirection...   \n",
       "967  Canon PIXMA E477 All-in-One Wireless Ink Effic...   \n",
       "\n",
       "                                              category  discounted_price  \\\n",
       "486  Computers&Accessories|Accessories&Peripherals|...             139.0   \n",
       "939  Electronics|Headphones,Earbuds&Accessories|Hea...             889.0   \n",
       "307  Electronics|HomeTheater,TV&Video|Accessories|T...             893.0   \n",
       "748  Computers&Accessories|Accessories&Peripherals|...             949.0   \n",
       "967  Computers&Accessories|Printers,Inks&Accessorie...            5299.0   \n",
       "\n",
       "     actual_price  discount_percentage  rating  rating_count  \\\n",
       "486         249.0                   44     4.0        9377.0   \n",
       "939        1999.0                   56     4.2        2284.0   \n",
       "307        1052.0                   15     4.3         106.0   \n",
       "748        2000.0                   53     3.9       14969.0   \n",
       "967        6355.0                   17     3.9        8280.0   \n",
       "\n",
       "                                         about_product  \\\n",
       "486  Durable Pvc Outer Exterior: Pvc Cables Are Ver...   \n",
       "939  We have designed the ENC earbuds to provide Ex...   \n",
       "307  [Make Your Wired Alexa Echo Dot Looks Wireless...   \n",
       "748  Omnidirectional pickup pattern|3.5mm TRRS jack...   \n",
       "967  Printer type: Ink Efficient; Functionality All...   \n",
       "\n",
       "                                          review_title  \\\n",
       "486  Worked on iPhone 7 and didn’t work on XR,Good ...   \n",
       "939  Great Customer care experience..!!,Best in bud...   \n",
       "307  Concept is great but not at all value for mone...   \n",
       "748  It's just good !,Good for WFH,Works according ...   \n",
       "967  Good printer but challenging setup,Use friendl...   \n",
       "\n",
       "                                        review_content          main_category  \n",
       "486  Worked on iPhone 7 and didn’t work on iPhone X...  Computers&Accessories  \n",
       "939  I ordered this product 1 week ago on Amazon bu...            Electronics  \n",
       "307  ,If you have brain,its very easy to install an...            Electronics  \n",
       "748  It just good for beginners you can start your ...  Computers&Accessories  \n",
       "967  The Printer is compact and gets the job done. ...  Computers&Accessories  "
      ]
     },
     "execution_count": 12,
     "metadata": {},
     "output_type": "execute_result"
    }
   ],
   "source": [
    "df.sample(5)"
   ]
  },
  {
   "cell_type": "code",
   "execution_count": 13,
   "id": "11293a87-68e0-4c2c-868f-2c24149a6633",
   "metadata": {},
   "outputs": [],
   "source": [
    "df.drop('category', axis = 1, inplace = True)"
   ]
  },
  {
   "cell_type": "code",
   "execution_count": 14,
   "id": "b1faa6fa-9256-428d-acb3-69208e111a0c",
   "metadata": {},
   "outputs": [
    {
     "name": "stdout",
     "output_type": "stream",
     "text": [
      "<class 'pandas.core.frame.DataFrame'>\n",
      "RangeIndex: 1465 entries, 0 to 1464\n",
      "Data columns (total 10 columns):\n",
      " #   Column               Non-Null Count  Dtype  \n",
      "---  ------               --------------  -----  \n",
      " 0   product_name         1465 non-null   object \n",
      " 1   discounted_price     1465 non-null   float64\n",
      " 2   actual_price         1465 non-null   float64\n",
      " 3   discount_percentage  1465 non-null   int64  \n",
      " 4   rating               1465 non-null   float64\n",
      " 5   rating_count         1465 non-null   float64\n",
      " 6   about_product        1465 non-null   object \n",
      " 7   review_title         1465 non-null   object \n",
      " 8   review_content       1465 non-null   object \n",
      " 9   main_category        1465 non-null   object \n",
      "dtypes: float64(4), int64(1), object(5)\n",
      "memory usage: 114.6+ KB\n"
     ]
    }
   ],
   "source": [
    "df.info()"
   ]
  },
  {
   "cell_type": "code",
   "execution_count": 15,
   "id": "ccc1d6dd-fcab-45cb-ae50-0fde74386d5f",
   "metadata": {},
   "outputs": [],
   "source": [
    "df.rename(columns={'main_category': 'category'}, inplace=True)"
   ]
  },
  {
   "cell_type": "code",
   "execution_count": 16,
   "id": "e9b90b0e-64c9-416c-8b46-3ac144c06e9f",
   "metadata": {},
   "outputs": [
    {
     "data": {
      "text/html": [
       "<div>\n",
       "<style scoped>\n",
       "    .dataframe tbody tr th:only-of-type {\n",
       "        vertical-align: middle;\n",
       "    }\n",
       "\n",
       "    .dataframe tbody tr th {\n",
       "        vertical-align: top;\n",
       "    }\n",
       "\n",
       "    .dataframe thead th {\n",
       "        text-align: right;\n",
       "    }\n",
       "</style>\n",
       "<table border=\"1\" class=\"dataframe\">\n",
       "  <thead>\n",
       "    <tr style=\"text-align: right;\">\n",
       "      <th></th>\n",
       "      <th>product_name</th>\n",
       "      <th>discounted_price</th>\n",
       "      <th>actual_price</th>\n",
       "      <th>discount_percentage</th>\n",
       "      <th>rating</th>\n",
       "      <th>rating_count</th>\n",
       "      <th>about_product</th>\n",
       "      <th>review_title</th>\n",
       "      <th>review_content</th>\n",
       "      <th>category</th>\n",
       "    </tr>\n",
       "  </thead>\n",
       "  <tbody>\n",
       "    <tr>\n",
       "      <th>0</th>\n",
       "      <td>Wayona Nylon Braided USB to Lightning Fast Cha...</td>\n",
       "      <td>399.0</td>\n",
       "      <td>1099.0</td>\n",
       "      <td>64</td>\n",
       "      <td>4.2</td>\n",
       "      <td>24269.0</td>\n",
       "      <td>High Compatibility : Compatible With iPhone 12...</td>\n",
       "      <td>Satisfied,Charging is really fast,Value for mo...</td>\n",
       "      <td>Looks durable Charging is fine tooNo complains...</td>\n",
       "      <td>Computers&amp;Accessories</td>\n",
       "    </tr>\n",
       "    <tr>\n",
       "      <th>1</th>\n",
       "      <td>Ambrane Unbreakable 60W / 3A Fast Charging 1.5...</td>\n",
       "      <td>199.0</td>\n",
       "      <td>349.0</td>\n",
       "      <td>43</td>\n",
       "      <td>4.0</td>\n",
       "      <td>43994.0</td>\n",
       "      <td>Compatible with all Type C enabled devices, be...</td>\n",
       "      <td>A Good Braided Cable for Your Type C Device,Go...</td>\n",
       "      <td>I ordered this cable to connect my phone to An...</td>\n",
       "      <td>Computers&amp;Accessories</td>\n",
       "    </tr>\n",
       "    <tr>\n",
       "      <th>2</th>\n",
       "      <td>Sounce Fast Phone Charging Cable &amp; Data Sync U...</td>\n",
       "      <td>199.0</td>\n",
       "      <td>1899.0</td>\n",
       "      <td>90</td>\n",
       "      <td>3.9</td>\n",
       "      <td>7928.0</td>\n",
       "      <td>【 Fast Charger&amp; Data Sync】-With built-in safet...</td>\n",
       "      <td>Good speed for earlier versions,Good Product,W...</td>\n",
       "      <td>Not quite durable and sturdy,https://m.media-a...</td>\n",
       "      <td>Computers&amp;Accessories</td>\n",
       "    </tr>\n",
       "    <tr>\n",
       "      <th>3</th>\n",
       "      <td>boAt Deuce USB 300 2 in 1 Type-C &amp; Micro USB S...</td>\n",
       "      <td>329.0</td>\n",
       "      <td>699.0</td>\n",
       "      <td>53</td>\n",
       "      <td>4.2</td>\n",
       "      <td>94363.0</td>\n",
       "      <td>The boAt Deuce USB 300 2 in 1 cable is compati...</td>\n",
       "      <td>Good product,Good one,Nice,Really nice product...</td>\n",
       "      <td>Good product,long wire,Charges good,Nice,I bou...</td>\n",
       "      <td>Computers&amp;Accessories</td>\n",
       "    </tr>\n",
       "    <tr>\n",
       "      <th>4</th>\n",
       "      <td>Portronics Konnect L 1.2M Fast Charging 3A 8 P...</td>\n",
       "      <td>154.0</td>\n",
       "      <td>399.0</td>\n",
       "      <td>61</td>\n",
       "      <td>4.2</td>\n",
       "      <td>16905.0</td>\n",
       "      <td>[CHARGE &amp; SYNC FUNCTION]- This cable comes wit...</td>\n",
       "      <td>As good as original,Decent,Good one for second...</td>\n",
       "      <td>Bought this instead of original apple, does th...</td>\n",
       "      <td>Computers&amp;Accessories</td>\n",
       "    </tr>\n",
       "  </tbody>\n",
       "</table>\n",
       "</div>"
      ],
      "text/plain": [
       "                                        product_name  discounted_price  \\\n",
       "0  Wayona Nylon Braided USB to Lightning Fast Cha...             399.0   \n",
       "1  Ambrane Unbreakable 60W / 3A Fast Charging 1.5...             199.0   \n",
       "2  Sounce Fast Phone Charging Cable & Data Sync U...             199.0   \n",
       "3  boAt Deuce USB 300 2 in 1 Type-C & Micro USB S...             329.0   \n",
       "4  Portronics Konnect L 1.2M Fast Charging 3A 8 P...             154.0   \n",
       "\n",
       "   actual_price  discount_percentage  rating  rating_count  \\\n",
       "0        1099.0                   64     4.2       24269.0   \n",
       "1         349.0                   43     4.0       43994.0   \n",
       "2        1899.0                   90     3.9        7928.0   \n",
       "3         699.0                   53     4.2       94363.0   \n",
       "4         399.0                   61     4.2       16905.0   \n",
       "\n",
       "                                       about_product  \\\n",
       "0  High Compatibility : Compatible With iPhone 12...   \n",
       "1  Compatible with all Type C enabled devices, be...   \n",
       "2  【 Fast Charger& Data Sync】-With built-in safet...   \n",
       "3  The boAt Deuce USB 300 2 in 1 cable is compati...   \n",
       "4  [CHARGE & SYNC FUNCTION]- This cable comes wit...   \n",
       "\n",
       "                                        review_title  \\\n",
       "0  Satisfied,Charging is really fast,Value for mo...   \n",
       "1  A Good Braided Cable for Your Type C Device,Go...   \n",
       "2  Good speed for earlier versions,Good Product,W...   \n",
       "3  Good product,Good one,Nice,Really nice product...   \n",
       "4  As good as original,Decent,Good one for second...   \n",
       "\n",
       "                                      review_content               category  \n",
       "0  Looks durable Charging is fine tooNo complains...  Computers&Accessories  \n",
       "1  I ordered this cable to connect my phone to An...  Computers&Accessories  \n",
       "2  Not quite durable and sturdy,https://m.media-a...  Computers&Accessories  \n",
       "3  Good product,long wire,Charges good,Nice,I bou...  Computers&Accessories  \n",
       "4  Bought this instead of original apple, does th...  Computers&Accessories  "
      ]
     },
     "execution_count": 16,
     "metadata": {},
     "output_type": "execute_result"
    }
   ],
   "source": [
    "df.head()"
   ]
  },
  {
   "cell_type": "markdown",
   "id": "0c7cb223-8df1-4255-8901-4bcc9cbf90a4",
   "metadata": {},
   "source": [
    "#### Q1) What is the average rating for each product category ?"
   ]
  },
  {
   "cell_type": "code",
   "execution_count": 17,
   "id": "4e1f07f0-38c4-436f-962d-9df823500971",
   "metadata": {},
   "outputs": [
    {
     "name": "stdout",
     "output_type": "stream",
     "text": [
      "                category    rating\n",
      "7         OfficeProducts  4.309677\n",
      "8             Toys&Games  4.300000\n",
      "5        HomeImprovement  4.250000\n",
      "1  Computers&Accessories  4.154967\n",
      "2            Electronics  4.081749\n",
      "4           Home&Kitchen  4.031696\n",
      "3    Health&PersonalCare  4.000000\n",
      "6     MusicalInstruments  3.900000\n",
      "0          Car&Motorbike  3.800000\n"
     ]
    }
   ],
   "source": [
    "Avg_rating = df.groupby('category')['rating'].mean().reset_index()\n",
    "Avg_rating = Avg_rating.sort_values(by = 'rating', ascending = False) #sorting values\n",
    "print(Avg_rating)"
   ]
  },
  {
   "cell_type": "markdown",
   "id": "7c4e4075-097f-4299-8918-dda459ef0e87",
   "metadata": {},
   "source": [
    "#### Q2) What are the top rating_count products by category ?"
   ]
  },
  {
   "cell_type": "code",
   "execution_count": 18,
   "id": "ab6c21fb-811c-4394-9515-023a2384e51b",
   "metadata": {},
   "outputs": [
    {
     "name": "stdout",
     "output_type": "stream",
     "text": [
      "                   category  rating_count\n",
      "12              Electronics      426973.0\n",
      "1028           Home&Kitchen      270563.0\n",
      "588   Computers&Accessories      253105.0\n",
      "613      MusicalInstruments       68664.0\n",
      "924              Toys&Games       15867.0\n",
      "659          OfficeProducts       12179.0\n"
     ]
    }
   ],
   "source": [
    "# Find the top product per category based on rating_count\n",
    "top_by_category = df.loc[df.groupby('category')['rating_count'].idxmax()]\n",
    "\n",
    "# Sort by rating_count and select top 6\n",
    "top_6_products = top_by_category.sort_values(by='rating_count', ascending=False).head(6)\n",
    "\n",
    "# Display the result\n",
    "print(top_6_products[['category', 'rating_count']])"
   ]
  },
  {
   "cell_type": "markdown",
   "id": "46af7372-9692-4b52-8105-8df1dafb4798",
   "metadata": {},
   "source": [
    "#### Q3) What is the distribution of discounted prices vs. actual prices ? "
   ]
  },
  {
   "cell_type": "code",
   "execution_count": 19,
   "id": "c9786178-2e8b-4427-b94a-d6efeba93213",
   "metadata": {},
   "outputs": [
    {
     "data": {
      "image/png": "[encoded data removed]",
      "text/plain": [
       "<Figure size 1200x700 with 1 Axes>"
      ]
     },
     "metadata": {},
     "output_type": "display_data"
    }
   ],
   "source": [
    "# Create the scatter plot\n",
    "plt.figure(figsize=(12, 7))\n",
    "sns.scatterplot(x='discounted_price', y='actual_price', data=df, hue = 'discounted_price', palette='viridis')\n",
    "plt.title('Discounted Price vs. Actual Price')\n",
    "plt.xlabel('Discounted Price')\n",
    "plt.ylabel('Actual Price')\n",
    "plt.legend(title='discounted_price', bbox_to_anchor=(1.05, 1), loc='upper left')\n",
    "plt.show()"
   ]
  },
  {
   "cell_type": "markdown",
   "id": "9ca52b27-32ff-403a-923f-6dde8ffa114b",
   "metadata": {},
   "source": [
    "### Insights >> The discounted price increases, the actual price also tends to increase. But most of the product falls under Budget Category."
   ]
  },
  {
   "cell_type": "markdown",
   "id": "c9defbb8-2b01-4d02-9e64-b4665295ad84",
   "metadata": {},
   "source": [
    "#### Q4) How does the average discount percentage vary across categories ?"
   ]
  },
  {
   "cell_type": "code",
   "execution_count": 20,
   "id": "22d81a47-5ba6-42f5-a15c-6be41fc800a4",
   "metadata": {},
   "outputs": [
    {
     "data": {
      "image/png": "[encoded data removed]",
      "text/plain": [
       "<Figure size 1200x700 with 1 Axes>"
      ]
     },
     "metadata": {},
     "output_type": "display_data"
    }
   ],
   "source": [
    "# Group by 'product_category' and calculate average discount percentage\n",
    "avg_discount = df.groupby('category')['discount_percentage'].mean().reset_index().head(10)\n",
    "\n",
    "# Sort by highest average discount\n",
    "avg_discount = avg_discount.sort_values(by='discount_percentage', ascending=False)\n",
    "\n",
    "# Plotting the average discount per category\n",
    "plt.figure(figsize=(12, 7))\n",
    "sns.barplot(data=avg_discount, x='discount_percentage', y='category', palette='coolwarm')\n",
    "plt.title('Average Discount Percentage Across Product Categories')\n",
    "plt.xlabel('Average Discount Percentage (%)')\n",
    "plt.ylabel('Product Category')\n",
    "plt.show()"
   ]
  },
  {
   "cell_type": "markdown",
   "id": "a625f7ad-dc5a-4268-8b16-fec2627cf97e",
   "metadata": {},
   "source": [
    "### Insights - Max Discount is given on Home Improvement products then on computer & Accessories"
   ]
  },
  {
   "cell_type": "markdown",
   "id": "a3db3778-cf3c-4263-82d7-70cc7ffa9acc",
   "metadata": {},
   "source": [
    "#### Q5) What are the most popular product names ?"
   ]
  },
  {
   "cell_type": "code",
   "execution_count": 21,
   "id": "898c4e7d-c0cf-4e8e-b9c9-d38abd66b0e6",
   "metadata": {},
   "outputs": [
    {
     "name": "stdout",
     "output_type": "stream",
     "text": [
      "                                           product_name  rating\n",
      "85    Amazon Basics Wireless Mouse | 2.4 GHz Connect...     5.0\n",
      "875   REDTECH USB-C to Lightning Cable 3.3FT, [Apple...     5.0\n",
      "1050  Syncwire LTG to USB Cable for Fast Charging Co...     5.0\n",
      "746   Oratech Coffee Frother electric, milk frother ...     4.8\n",
      "506   Instant Pot Air Fryer, Vortex 2QT, Touch Contr...     4.8\n",
      "1048  Swiffer Instant Electric Water Heater Faucet T...     4.8\n",
      "1241  Zuvexa USB Rechargeable Electric Foam Maker - ...     4.7\n",
      "241   Campfire Spring Chef Prolix Instant Portable W...     4.7\n",
      "368   FIGMENT Handheld Milk Frother Rechargeable, 3-...     4.7\n",
      "1018  Sony Bravia 164 cm (65 inches) 4K Ultra HD Sma...     4.7\n"
     ]
    }
   ],
   "source": [
    "# Calculate average rating per product\n",
    "top_rated_products = df.groupby('product_name')['rating'].mean().reset_index()\n",
    "\n",
    "# Sort by highest average rating\n",
    "top_rated_products = top_rated_products.sort_values(by='rating', ascending=False)\n",
    "\n",
    "# Display top 10 highest-rated products\n",
    "print(top_rated_products.head(10))"
   ]
  },
  {
   "cell_type": "markdown",
   "id": "d867a1fa-ea11-427b-b781-a676898ac68d",
   "metadata": {},
   "source": [
    "#### Insights - Most rated product are from Electronics"
   ]
  },
  {
   "cell_type": "markdown",
   "id": "58ad7641-51de-42d9-923f-2e1a2ba57f5c",
   "metadata": {},
   "source": [
    "#### Q6) What are the most popular product keywords ?"
   ]
  },
  {
   "cell_type": "code",
   "execution_count": 22,
   "id": "18de626a-fc71-41fe-a13b-072b729db67b",
   "metadata": {},
   "outputs": [
    {
     "name": "stdout",
     "output_type": "stream",
     "text": [
      "word\n",
      "usb           377\n",
      "cable         320\n",
      "charging      219\n",
      "fast          211\n",
      "smart         171\n",
      "type          144\n",
      "tv            138\n",
      "compatible    138\n",
      "data          131\n",
      "hd            130\n",
      "Name: count, dtype: int64\n"
     ]
    }
   ],
   "source": [
    "# Combine all product names into one string\n",
    "all_product_names = ' '.join(df['product_name'].astype(str))\n",
    "\n",
    "# Split into individual words and convert to lowercase\n",
    "words = all_product_names.lower().split()\n",
    "\n",
    "# Create a DataFrame from the word list\n",
    "words_df = pd.DataFrame(words, columns=['word'])\n",
    "\n",
    "# Remove common stopwords\n",
    "stopwords = ['for', '(black)', 'with', 'the', 'of', 'to', 'and', 'c', 'by', 'from', '|', '&', '-']\n",
    "words_df = words_df[~words_df['word'].isin(stopwords)]\n",
    "\n",
    "# Count word frequency\n",
    "word_counts = words_df['word'].value_counts()\n",
    "\n",
    "# Display top 10 keywords\n",
    "print(word_counts.head(10))"
   ]
  },
  {
   "cell_type": "markdown",
   "id": "ee9c263d-5273-43fe-8d84-eade2a74852c",
   "metadata": {},
   "source": [
    "#### Q7) What are the most popular product reviews ?"
   ]
  },
  {
   "cell_type": "code",
   "execution_count": 23,
   "id": "5cfaf7ae-4046-497e-b569-ad73b3aab966",
   "metadata": {},
   "outputs": [
    {
     "name": "stdout",
     "output_type": "stream",
     "text": [
      "                                           review_title  rating\n",
      "324                                     Awesome Product     5.0\n",
      "174   Good,Superb quality,Good products  nice one,Wo...     5.0\n",
      "775   Very responsive and stylish mouse,Simply Aweso...     5.0\n",
      "1145  Best Product,It’s expansive but it works well ...     4.8\n",
      "1201  Oratech Best Coffee Frother,Great,My review ab...     4.8\n",
      "1299  Loved it,Good product,Good product,It's easy t...     4.8\n",
      "249   Product installation was excellent  but delive...     4.7\n",
      "1388  Felt very useful 👌 but cable is short,Good in ...     4.7\n",
      "1226  Little kitchen helper,An amazing product,Very ...     4.7\n",
      "459   Easy to install,Best screen guard and the easi...     4.7\n"
     ]
    }
   ],
   "source": [
    "# Sort reviews based on highest ratings\n",
    "if 'rating' in df.columns and 'review_title' in df.columns:\n",
    "    top_rated_reviews = df.sort_values(by='rating', ascending=False)[['review_title', 'rating']].dropna().head(10)\n",
    "    print(top_rated_reviews)\n",
    "else:\n",
    "    print(\"The required columns ('reviews' and 'ratings') are not available.\")"
   ]
  },
  {
   "cell_type": "markdown",
   "id": "35fc716d-4f9e-4bc5-93d3-8a5027db99c5",
   "metadata": {},
   "source": [
    "#### Q8) What is the correlation between discounted_price and rating ?"
   ]
  },
  {
   "cell_type": "code",
   "execution_count": 24,
   "id": "637fe8ee-46e3-4d1d-9a31-c70c0d2cc0ec",
   "metadata": {},
   "outputs": [
    {
     "name": "stdout",
     "output_type": "stream",
     "text": [
      "Correlation between Discounted Price and Ratings: 0.11\n"
     ]
    },
    {
     "data": {
      "image/png": "[encoded data removed]",
      "text/plain": [
       "<Figure size 1000x600 with 1 Axes>"
      ]
     },
     "metadata": {},
     "output_type": "display_data"
    }
   ],
   "source": [
    "# Calculate the correlation\n",
    "correlation = df['discounted_price'].corr(df['rating'])\n",
    "print(f\"Correlation between Discounted Price and Ratings: {correlation:.2f}\")\n",
    "\n",
    "# Plot the correlation using a scatter plot with regression line\n",
    "plt.figure(figsize=(10, 6))\n",
    "sns.regplot(x='discounted_price', y='rating', data=df, scatter_kws={'alpha':0.5}, line_kws={'color':'red'})\n",
    "plt.title('Correlation Between Discounted Price and Ratings')\n",
    "plt.xlabel('Discounted Price')\n",
    "plt.ylabel('Ratings')\n",
    "plt.show()"
   ]
  },
  {
   "cell_type": "markdown",
   "id": "dac2d879-b4a8-4f61-9ce1-32e5e5abdf14",
   "metadata": {},
   "source": [
    "### Insights - More Discount, More Rating"
   ]
  },
  {
   "cell_type": "markdown",
   "id": "a4995e48-717a-4dea-8c12-42046a5d6bb6",
   "metadata": {},
   "source": [
    "#### Q9) What are the Top 5 categories based on the highest ratings ?"
   ]
  },
  {
   "cell_type": "code",
   "execution_count": 25,
   "id": "6d501b93-c725-4444-85c1-99ed1ae51bfd",
   "metadata": {},
   "outputs": [
    {
     "name": "stdout",
     "output_type": "stream",
     "text": [
      "                category    rating\n",
      "7         OfficeProducts  4.309677\n",
      "8             Toys&Games  4.300000\n",
      "5        HomeImprovement  4.250000\n",
      "1  Computers&Accessories  4.154967\n",
      "2            Electronics  4.081749\n"
     ]
    }
   ],
   "source": [
    "# Calculate average rating per category\n",
    "avg_ratings = df.groupby('category')['rating'].mean().reset_index()\n",
    "\n",
    "# Sort by highest average rating and select top 5\n",
    "top_5_categories = avg_ratings.sort_values(by='rating', ascending=False).head(5)\n",
    "\n",
    "print(top_5_categories)"
   ]
  },
  {
   "cell_type": "markdown",
   "id": "fe96c336-7413-47d6-8e58-bb0bc06551d9",
   "metadata": {},
   "source": [
    "#### Q10) Identify any potential areas for improvement or optimization based on the data analysis."
   ]
  },
  {
   "cell_type": "code",
   "execution_count": 26,
   "id": "962d02b3-39a4-411c-8c52-1ca63b029d59",
   "metadata": {},
   "outputs": [
    {
     "data": {
      "text/html": [
       "<div>\n",
       "<style scoped>\n",
       "    .dataframe tbody tr th:only-of-type {\n",
       "        vertical-align: middle;\n",
       "    }\n",
       "\n",
       "    .dataframe tbody tr th {\n",
       "        vertical-align: top;\n",
       "    }\n",
       "\n",
       "    .dataframe thead th {\n",
       "        text-align: right;\n",
       "    }\n",
       "</style>\n",
       "<table border=\"1\" class=\"dataframe\">\n",
       "  <thead>\n",
       "    <tr style=\"text-align: right;\">\n",
       "      <th></th>\n",
       "      <th>product_name</th>\n",
       "      <th>category</th>\n",
       "      <th>rating</th>\n",
       "      <th>discount_percentage</th>\n",
       "    </tr>\n",
       "  </thead>\n",
       "  <tbody>\n",
       "    <tr>\n",
       "      <th>921</th>\n",
       "      <td>Canon PIXMA MG2577s All-in-One Inkjet Colour P...</td>\n",
       "      <td>Computers&amp;Accessories</td>\n",
       "      <td>3.4</td>\n",
       "      <td>10</td>\n",
       "    </tr>\n",
       "    <tr>\n",
       "      <th>1279</th>\n",
       "      <td>Eureka Forbes car Vac 100 Watts Powerful Sucti...</td>\n",
       "      <td>Home&amp;Kitchen</td>\n",
       "      <td>0.0</td>\n",
       "      <td>16</td>\n",
       "    </tr>\n",
       "    <tr>\n",
       "      <th>1374</th>\n",
       "      <td>KNYUC MART Mini Electric Handy Room Heater Com...</td>\n",
       "      <td>Home&amp;Kitchen</td>\n",
       "      <td>3.3</td>\n",
       "      <td>22</td>\n",
       "    </tr>\n",
       "  </tbody>\n",
       "</table>\n",
       "</div>"
      ],
      "text/plain": [
       "                                           product_name  \\\n",
       "921   Canon PIXMA MG2577s All-in-One Inkjet Colour P...   \n",
       "1279  Eureka Forbes car Vac 100 Watts Powerful Sucti...   \n",
       "1374  KNYUC MART Mini Electric Handy Room Heater Com...   \n",
       "\n",
       "                   category  rating  discount_percentage  \n",
       "921   Computers&Accessories     3.4                   10  \n",
       "1279           Home&Kitchen     0.0                   16  \n",
       "1374           Home&Kitchen     3.3                   22  "
      ]
     },
     "execution_count": 26,
     "metadata": {},
     "output_type": "execute_result"
    }
   ],
   "source": [
    "# Identifying areas for improvement based on low ratings and low discounts\n",
    "\n",
    "# Products with low ratings (<3.5) and low discount (<30%)\n",
    "low_rating_discount = df[(df['rating'] < 3.5) & (df['discount_percentage'] < 30)][['product_name', 'category', 'rating', 'discount_percentage']]\n",
    "\n",
    "# Categories with average rating < 4 and discount < 40%\n",
    "category_issues = df.groupby('category').agg({'rating': 'mean', 'discount_percentage': 'mean'}).reset_index()\n",
    "category_issues = category_issues[(category_issues['rating'] < 4) & (category_issues['discount_percentage'] < 40)]\n",
    "\n",
    "low_rating_discount.head()"
   ]
  },
  {
   "cell_type": "code",
   "execution_count": null,
   "id": "f971eac4-c348-4ee7-8efa-2d1dbda6c1a0",
   "metadata": {},
   "outputs": [],
   "source": []
  }
 ],
 "metadata": {
  "kernelspec": {
   "display_name": "Python 3 (ipykernel)",
   "language": "python",
   "name": "python3"
  },
  "language_info": {
   "codemirror_mode": {
    "name": "ipython",
    "version": 3
   },
   "file_extension": ".py",
   "mimetype": "text/x-python",
   "name": "python",
   "nbconvert_exporter": "python",
   "pygments_lexer": "ipython3",
   "version": "3.12.7"
  }
 },
 "nbformat": 4,
 "nbformat_minor": 5
}
